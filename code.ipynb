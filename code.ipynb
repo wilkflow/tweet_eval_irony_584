{
 "cells": [
  {
   "cell_type": "code",
   "execution_count": 1,
   "id": "8f9c4405-d606-410e-a4f7-d708cded7e2b",
   "metadata": {},
   "outputs": [],
   "source": [
    "# get dataset\n",
    "import csv\n",
    "import numpy as np\n",
    "from datasets import load_dataset\n",
    "import pandas as pd\n",
    "from sklearn.metrics import confusion_matrix\n",
    "import seaborn as sns\n",
    "import matplotlib.pyplot as plt\n",
    "dataset = load_dataset(\"tweet_eval\", \"irony\")"
   ]
  },
  {
   "cell_type": "code",
   "execution_count": 2,
   "id": "5cd56c84-da03-4da4-be61-e3cd67fa0ff9",
   "metadata": {},
   "outputs": [
    {
     "data": {
      "text/plain": [
       "['seeing ppl walking w/ crutches makes me really excited for the next 3 weeks of my life',\n",
       " 'look for the girl with the broken smile, ask her if she wants to stay while, and she will be loved. 💕🎵',\n",
       " 'Now I remember why I buy books online @user #servicewithasmile',\n",
       " '@user @user So is he banded from wearing the clothes?  #Karma',\n",
       " 'Just found out there are Etch A Sketch apps.  #oldschool #notoldschool']"
      ]
     },
     "execution_count": 2,
     "metadata": {},
     "output_type": "execute_result"
    }
   ],
   "source": [
    "dataset['train']['text'][0:5] #check fist 5"
   ]
  },
  {
   "cell_type": "code",
   "execution_count": 3,
   "id": "7fca50e2-43c1-4d5e-8271-53bfc9fe46eb",
   "metadata": {},
   "outputs": [
    {
     "data": {
      "text/plain": [
       "[1, 0, 1, 1, 1]"
      ]
     },
     "execution_count": 3,
     "metadata": {},
     "output_type": "execute_result"
    }
   ],
   "source": [
    "dataset['train']['label'][0:5]"
   ]
  },
  {
   "cell_type": "code",
   "execution_count": 4,
   "id": "3aa66095-4bf5-4e20-b027-9084f67b4594",
   "metadata": {},
   "outputs": [
    {
     "data": {
      "text/html": [
       "<div>\n",
       "<style scoped>\n",
       "    .dataframe tbody tr th:only-of-type {\n",
       "        vertical-align: middle;\n",
       "    }\n",
       "\n",
       "    .dataframe tbody tr th {\n",
       "        vertical-align: top;\n",
       "    }\n",
       "\n",
       "    .dataframe thead th {\n",
       "        text-align: right;\n",
       "    }\n",
       "</style>\n",
       "<table border=\"1\" class=\"dataframe\">\n",
       "  <thead>\n",
       "    <tr style=\"text-align: right;\">\n",
       "      <th></th>\n",
       "      <th>text</th>\n",
       "      <th>label</th>\n",
       "    </tr>\n",
       "  </thead>\n",
       "  <tbody>\n",
       "    <tr>\n",
       "      <th>0</th>\n",
       "      <td>seeing ppl walking w/ crutches makes me really...</td>\n",
       "      <td>1</td>\n",
       "    </tr>\n",
       "    <tr>\n",
       "      <th>1</th>\n",
       "      <td>look for the girl with the broken smile, ask h...</td>\n",
       "      <td>0</td>\n",
       "    </tr>\n",
       "    <tr>\n",
       "      <th>2</th>\n",
       "      <td>Now I remember why I buy books online @user #s...</td>\n",
       "      <td>1</td>\n",
       "    </tr>\n",
       "    <tr>\n",
       "      <th>3</th>\n",
       "      <td>@user @user So is he banded from wearing the c...</td>\n",
       "      <td>1</td>\n",
       "    </tr>\n",
       "    <tr>\n",
       "      <th>4</th>\n",
       "      <td>Just found out there are Etch A Sketch apps.  ...</td>\n",
       "      <td>1</td>\n",
       "    </tr>\n",
       "    <tr>\n",
       "      <th>5</th>\n",
       "      <td>Hey what do you know, one of the witnesses sup...</td>\n",
       "      <td>1</td>\n",
       "    </tr>\n",
       "    <tr>\n",
       "      <th>6</th>\n",
       "      <td>@user on stage at #flzjingleball at the @user ...</td>\n",
       "      <td>0</td>\n",
       "    </tr>\n",
       "    <tr>\n",
       "      <th>7</th>\n",
       "      <td>You know it's going to be a great day when you...</td>\n",
       "      <td>1</td>\n",
       "    </tr>\n",
       "    <tr>\n",
       "      <th>8</th>\n",
       "      <td>Halfway thorough my workday ... Woooo</td>\n",
       "      <td>1</td>\n",
       "    </tr>\n",
       "    <tr>\n",
       "      <th>9</th>\n",
       "      <td>Would like to thank my nephew for giving me hi...</td>\n",
       "      <td>1</td>\n",
       "    </tr>\n",
       "  </tbody>\n",
       "</table>\n",
       "</div>"
      ],
      "text/plain": [
       "                                                text  label\n",
       "0  seeing ppl walking w/ crutches makes me really...      1\n",
       "1  look for the girl with the broken smile, ask h...      0\n",
       "2  Now I remember why I buy books online @user #s...      1\n",
       "3  @user @user So is he banded from wearing the c...      1\n",
       "4  Just found out there are Etch A Sketch apps.  ...      1\n",
       "5  Hey what do you know, one of the witnesses sup...      1\n",
       "6  @user on stage at #flzjingleball at the @user ...      0\n",
       "7  You know it's going to be a great day when you...      1\n",
       "8              Halfway thorough my workday ... Woooo      1\n",
       "9  Would like to thank my nephew for giving me hi...      1"
      ]
     },
     "execution_count": 4,
     "metadata": {},
     "output_type": "execute_result"
    }
   ],
   "source": [
    "df = pd.DataFrame(dataset['train'])\n",
    "df.head(10)"
   ]
  },
  {
   "cell_type": "code",
   "execution_count": 5,
   "id": "abce77ac-21f1-4814-b525-4b1e243f37c8",
   "metadata": {},
   "outputs": [],
   "source": [
    "from transformers import AutoModelForSequenceClassification, AutoTokenizer\n",
    "from transformers import AutoConfig\n",
    "#get the bert pretrained model\n",
    "task = 'irony'\n",
    "model_name = f\"cardiffnlp/twitter-roberta-base-{task}\"\n",
    "tokenizer = AutoTokenizer.from_pretrained(model_name)\n",
    "config = AutoConfig.from_pretrained(model_name)\n",
    "config.num_labels = 2\n",
    "model = AutoModelForSequenceClassification.from_pretrained(model_name, config= config)\n",
    "#model.save_pretrained(model_name)"
   ]
  },
  {
   "cell_type": "code",
   "execution_count": 6,
   "id": "6dc405a0-ae6a-4454-816d-2de9f465bcef",
   "metadata": {},
   "outputs": [],
   "source": [
    "\n",
    "\n",
    "#preproc\n",
    "def preproc(dat):\n",
    "    return tokenizer(dat[\"text\"], truncation=True, padding=\"max_length\", max_length=128)\n",
    "proc_dat = dataset.map(preproc, batched=True)\n"
   ]
  },
  {
   "cell_type": "code",
   "execution_count": 7,
   "id": "1093a9ce-ba50-4f5f-84c5-5b456ec0c4fb",
   "metadata": {},
   "outputs": [],
   "source": [
    "proc_dat.set_format(\"torch\", columns=[\"input_ids\", \"attention_mask\", \"label\"]) #convert for model"
   ]
  },
  {
   "cell_type": "code",
   "execution_count": 8,
   "id": "5225227d-8bf9-42b0-991b-3c74ae7e87d3",
   "metadata": {},
   "outputs": [
    {
     "name": "stdout",
     "output_type": "stream",
     "text": [
      "WARNING:tensorflow:From C:\\Users\\locov\\AppData\\Local\\Programs\\Python\\Python311\\Lib\\site-packages\\tf_keras\\src\\losses.py:2976: The name tf.losses.sparse_softmax_cross_entropy is deprecated. Please use tf.compat.v1.losses.sparse_softmax_cross_entropy instead.\n",
      "\n"
     ]
    }
   ],
   "source": [
    "from transformers import TrainingArguments, Trainer\n",
    "#make args for the model\n",
    "training_args = TrainingArguments(\n",
    "    output_dir=\"./results\",\n",
    "    per_device_eval_batch_size=32,  #decent batch size\n",
    "    logging_dir=\"./logs\",\n",
    "    eval_strategy=\"no\",  # no eval for training\n",
    "    save_strategy=\"no\", #no saving bc im printing to pdf\n",
    ")"
   ]
  },
  {
   "cell_type": "code",
   "execution_count": 9,
   "id": "72877ec6-c759-4805-97cc-ff3a489bca87",
   "metadata": {},
   "outputs": [
    {
     "data": {
      "text/html": [
       "\n",
       "    <div>\n",
       "      \n",
       "      <progress value='25' max='25' style='width:300px; height:20px; vertical-align: middle;'></progress>\n",
       "      [25/25 00:05]\n",
       "    </div>\n",
       "    "
      ],
      "text/plain": [
       "<IPython.core.display.HTML object>"
      ]
     },
     "metadata": {},
     "output_type": "display_data"
    },
    {
     "data": {
      "image/png": "[encoded data removed]",
      "text/plain": [
       "<Figure size 600x400 with 2 Axes>"
      ]
     },
     "metadata": {},
     "output_type": "display_data"
    },
    {
     "name": "stdout",
     "output_type": "stream",
     "text": [
      "Test Results: {'eval_loss': 0.5614769458770752, 'eval_model_preparation_time': 0.003, 'eval_accuracy': 0.7346938775510204, 'eval_f1': 0.6272401433691757, 'eval_precision': 0.708502024291498, 'eval_recall': 0.5627009646302251, 'eval_runtime': 6.6032, 'eval_samples_per_second': 118.73, 'eval_steps_per_second': 3.786}\n"
     ]
    }
   ],
   "source": [
    "from sklearn.metrics import accuracy_score, precision_recall_fscore_support, classification_report, recall_score\n",
    "def accs(pred):   #get obj of pred metrics\n",
    "    labels = pred.label_ids\n",
    "    preds = pred.predictions.argmax(-1)\n",
    "    precision, recall, f1, _ = precision_recall_fscore_support(labels, preds, average=\"binary\")\n",
    "    cm = confusion_matrix(labels, preds, labels=[0, 1])\n",
    "    plt.figure(figsize=(6, 4))\n",
    "    sns.heatmap(\n",
    "        cm,\n",
    "        annot=True,\n",
    "        fmt=\"d\",\n",
    "        cmap=\"Blues\",\n",
    "        xticklabels=[\"non-ironic\", \"ironic\"],\n",
    "        yticklabels=[\"non-ironic\", \"ironic\"],\n",
    "    )\n",
    "    plt.xlabel(\"Predicted Label\")\n",
    "    plt.ylabel(\"True Label\")\n",
    "    plt.title(\"Confusion Matrix\")\n",
    "    plt.savefig(\"confusion_matrix.png\")\n",
    "    plt.show()\n",
    "    acc = accuracy_score(labels, preds)\n",
    "    return {\n",
    "        \"accuracy\": acc,\n",
    "        \"f1\": f1,\n",
    "        \"precision\": precision,\n",
    "        \"recall\": recall,\n",
    "    }\n",
    "\n",
    "trainer = Trainer(\n",
    "    model=model,\n",
    "    args=training_args,\n",
    "    eval_dataset=proc_dat[\"test\"],\n",
    "    compute_metrics=accs,\n",
    ")\n",
    "test_results = trainer.evaluate()\n",
    "print(\"Test Results:\", test_results)\n",
    "##THESE RESULTS ARE CONSISTENT WITH THE CITED PAPER RESULTS FOR ROBERT (.62 F1)"
   ]
  },
  {
   "cell_type": "code",
   "execution_count": null,
   "id": "2b8c29d7-5845-44a9-98f9-0936396448cc",
   "metadata": {},
   "outputs": [],
   "source": []
  },
  {
   "cell_type": "code",
   "execution_count": 10,
   "id": "1e9dff74-17dc-43c1-8b44-a02e60580951",
   "metadata": {},
   "outputs": [],
   "source": [
    "import os\n",
    "from groq import Groq\n",
    "os.environ[\"GROQ_API_KEY\"] = #API KEYS ARE FREE TO GENERATE ON THE GROQ WEBSITE\n",
    "client = Groq()  #llama-3.1-8b-instant\n",
    "prompt_template = \"\"\"Given the following post, classify it as \"ironic\" or \"non-ironic\". Irony involves saying something that contrasts with the intended meaning, often for the purpose of humour. Provide only the label (\"ironic\" or \"non-ironic\") as your response.\n",
    "Tweet: {tweet}\"\"\"\n",
    "def classify_tweet(tweet, model=\"llama-3.1-8b-instant\"): #llama-3.1-8b-instant model\n",
    "    prompt = prompt_template.format(tweet=tweet)\n",
    "    try:\n",
    "        response = client.chat.completions.create(     #get model response\n",
    "            messages=[{\"role\": \"user\", \"content\": prompt}],\n",
    "            model=model,\n",
    "            max_tokens=10,\n",
    "            temperature=0.0  # Deterministic output\n",
    "        )\n",
    "        prediction = response.choices[0].message.content.strip().lower()\n",
    "        return prediction\n",
    "    except Exception as e:\n",
    "        print(f\"Error processing tweet: {e}\")\n",
    "        return None\n",
    "\n"
   ]
  },
  {
   "cell_type": "code",
   "execution_count": 11,
   "id": "180c92a7-487c-4d34-9861-24518e368f6e",
   "metadata": {},
   "outputs": [
    {
     "data": {
      "application/vnd.jupyter.widget-view+json": {
       "model_id": "f922be8c2a8a4ed58c6dd86a96bb00f7",
       "version_major": 2,
       "version_minor": 0
      },
      "text/plain": [
       "  0%|          | 0/784 [00:00<?, ?it/s]"
      ]
     },
     "metadata": {},
     "output_type": "display_data"
    }
   ],
   "source": [
    "predictions = []\n",
    "true_labels = []\n",
    "from tqdm.notebook import tqdm #make progress counter\n",
    "tdat =dataset['test']\n",
    "#print(tdat)\n",
    "citer = 0\n",
    "for i in tqdm(range(len(tdat))):\n",
    "    item = tdat[i]\n",
    "    citer+=1\n",
    "    #print(citer)\n",
    "    #print(item['text'])\n",
    "    tweet = item['text']\n",
    "    true_label = item['label']  # 1 for ironic, 0 for non-ironic\n",
    "    \n",
    "    # Get prediction from Groq API\n",
    "    pred = classify_tweet(tweet)\n",
    "    #print(pred)\n",
    "    #print(true_label)\n",
    "    if pred in [\"ironic\", \"non-ironic\"]:\n",
    "        predictions.append(1 if pred == \"ironic\" else 0)\n",
    "        true_labels.append(true_label)\n",
    "    else:\n",
    "        print(f\"Invalid prediction for tweet: {tweet}, Prediction: {pred}\")\n",
    "\n"
   ]
  },
  {
   "cell_type": "code",
   "execution_count": 12,
   "id": "e3c24cf8-cdef-479b-9566-d96276b9c4ca",
   "metadata": {},
   "outputs": [
    {
     "name": "stdout",
     "output_type": "stream",
     "text": [
      "\n",
      "Metrics Summary:\n",
      "Accuracy: 0.6913\n",
      "Precision: 0.5772\n",
      "Recall: 0.8296\n",
      "F1 Score: 0.6807\n"
     ]
    }
   ],
   "source": [
    "# convert for sklearn\n",
    "predictions = np.array(predictions)\n",
    "true_labels = np.array(true_labels)\n",
    "\n",
    "# sklearn metrics\n",
    "precision, rec, f1, _ = precision_recall_fscore_support(true_labels,predictions, average=\"binary\")\n",
    "\n",
    "acc = accuracy_score(true_labels, predictions)\n",
    "\n",
    "print(f\"\\nMetrics Summary:\")\n",
    "print(f\"Accuracy: {acc:.4f}\")\n",
    "print(f\"Precision: {precision:.4f}\")\n",
    "print(f\"Recall: {rec:.4f}\")\n",
    "print(f\"F1 Score: {f1:.4f}\")\n"
   ]
  },
  {
   "cell_type": "code",
   "execution_count": 13,
   "id": "0ea3b777-41d3-4b0f-80ce-a5e8e003989d",
   "metadata": {},
   "outputs": [
    {
     "name": "stdout",
     "output_type": "stream",
     "text": [
      "[[284 189]\n",
      " [ 53 258]]\n"
     ]
    }
   ],
   "source": [
    "\n",
    "cm = confusion_matrix(true_labels, predictions, labels=[0, 1])\n",
    "print(cm)"
   ]
  },
  {
   "cell_type": "code",
   "execution_count": 14,
   "id": "06eafe54-bab7-4b41-92c7-636f5589ac59",
   "metadata": {},
   "outputs": [
    {
     "data": {
      "image/png": "[encoded data removed]",
      "text/plain": [
       "<Figure size 600x400 with 2 Axes>"
      ]
     },
     "metadata": {},
     "output_type": "display_data"
    }
   ],
   "source": [
    "\n",
    "plt.figure(figsize=(6, 4))\n",
    "sns.heatmap(\n",
    "    cm,\n",
    "    annot=True,\n",
    "    fmt=\"d\",\n",
    "    cmap=\"Blues\",\n",
    "    xticklabels=[\"non-ironic\", \"ironic\"],\n",
    "    yticklabels=[\"non-ironic\", \"ironic\"],\n",
    ")\n",
    "plt.xlabel(\"Predicted Label\")\n",
    "plt.ylabel(\"True Label\")\n",
    "plt.title(\"Confusion Matrix\")\n",
    "plt.savefig(\"confusion_matrix.png\")\n",
    "plt.show()"
   ]
  },
  {
   "cell_type": "code",
   "execution_count": 47,
   "id": "a5e4f8ac-792f-4ad7-a09d-834e4486328f",
   "metadata": {},
   "outputs": [
    {
     "data": {
      "application/vnd.jupyter.widget-view+json": {
       "model_id": "5c6740a2494d4b5db6e12f56341baf37",
       "version_major": 2,
       "version_minor": 0
      },
      "text/plain": [
       "  0%|          | 0/784 [00:00<?, ?it/s]"
      ]
     },
     "metadata": {},
     "output_type": "display_data"
    }
   ],
   "source": [
    "import re\n",
    "client = Groq()  #deepseek-r1-distill-llama-70b\n",
    "prompt_template = \"\"\"Given the following post, classify it as \"ironic\" or \"non-ironic\". Irony involves saying something that contrasts with the intended meaning, often for the purpose of humour. Provide only <answer>\"ironic\" or \"non-ironic\"</answer> as your response.\n",
    "Tweet: {tweet}\n",
    "RESPOND WITH <answer>ironic||non-ironic</answer> ONLY\n",
    "\"\"\"\n",
    "def classify_tweet(tweet, model=\"deepseek-r1-distill-llama-70b\"): #deepseek-r1-distill-llama-70b\n",
    "    prompt = prompt_template.format(tweet=tweet)\n",
    "    try:\n",
    "        response = client.chat.completions.create(     #get model response\n",
    "            messages=[{\"role\": \"user\", \"content\": prompt}],\n",
    "            model=model,\n",
    "            max_tokens=1000, #due to insistense on showing thinking process\n",
    "            temperature=0.0  # Deterministic output\n",
    "        )\n",
    "        #print(response.choices[0].message.content.strip().lower())\n",
    "        prediction = response.choices[0].message.content.strip().lower().split('<answer>')[1]\n",
    "            #had to modify this because the model insits on outputting its thinking\n",
    "        #print(prediction)\n",
    "        rege = \"(non-ironic|ironic)\"\n",
    "        match = re.search(rege, prediction)\n",
    "        #print(match.group(1).lower())\n",
    "        if match:\n",
    "            prediction = match.group(1).lower()\n",
    "        else:\n",
    "            prediction = None\n",
    "            \n",
    "            print(f\"Could not extract answer from response: {prediction}\")\n",
    "        return prediction\n",
    "    except Exception as e:\n",
    "        print(response.choices[0].message.content.strip().lower())\n",
    "        print(f\"Error processing tweet: {e}\")\n",
    "        return None\n",
    "predictions = []\n",
    "true_labels = []\n",
    "from tqdm.notebook import tqdm #make progress counter\n",
    "tdat =dataset['test']\n",
    "#print(tdat)\n",
    "citer = 0\n",
    "for i in tqdm(range(len(tdat))):\n",
    "    item = tdat[i]\n",
    "    citer+=1\n",
    "    #print(citer)\n",
    "    #print(item['text'])\n",
    "    tweet = item['text']\n",
    "    true_label = item['label']  # 1 for ironic, 0 for non-ironic\n",
    "    \n",
    "    # Get prediction from Groq API\n",
    "    pred = classify_tweet(tweet)\n",
    "    #print(pred)\n",
    "    #print(true_label)\n",
    "    if pred in [\"ironic\", \"non-ironic\"]:\n",
    "        predictions.append(1 if pred == \"ironic\" else 0)\n",
    "        true_labels.append(true_label)\n",
    "    else:\n",
    "        print(f\"Invalid prediction for tweet: {tweet}, Prediction: {pred}\")\n",
    " \n"
   ]
  },
  {
   "cell_type": "code",
   "execution_count": 48,
   "id": "d2eefef3-45ea-4bf0-b886-4e78ee9de439",
   "metadata": {},
   "outputs": [
    {
     "name": "stdout",
     "output_type": "stream",
     "text": [
      "\n",
      "Metrics Summary:\n",
      "Accuracy: 0.7895\n",
      "Precision: 0.6580\n",
      "Recall: 0.9775\n",
      "F1 Score: 0.7865\n"
     ]
    }
   ],
   "source": [
    "# convert for sklearn\n",
    "predictions = np.array(predictions)\n",
    "true_labels = np.array(true_labels)\n",
    "\n",
    "# sklearn metrics\n",
    "precision, rec, f1, _ = precision_recall_fscore_support(true_labels,predictions, average=\"binary\")\n",
    "\n",
    "acc = accuracy_score(true_labels, predictions)\n",
    "\n",
    "print(f\"\\nMetrics Summary:\")\n",
    "print(f\"Accuracy: {acc:.4f}\")\n",
    "print(f\"Precision: {precision:.4f}\")\n",
    "print(f\"Recall: {rec:.4f}\")\n",
    "print(f\"F1 Score: {f1:.4f}\")\n"
   ]
  },
  {
   "cell_type": "code",
   "execution_count": 49,
   "id": "a3a840e3-ba77-4cd2-a444-f1712842034e",
   "metadata": {},
   "outputs": [
    {
     "name": "stdout",
     "output_type": "stream",
     "text": [
      "[[315 158]\n",
      " [  7 304]]\n"
     ]
    }
   ],
   "source": [
    "cm = confusion_matrix(true_labels, predictions, labels=[0, 1])\n",
    "print(cm)"
   ]
  },
  {
   "cell_type": "code",
   "execution_count": 50,
   "id": "37c2eb6b-fcab-4391-9c5b-82fc804c72e5",
   "metadata": {},
   "outputs": [
    {
     "data": {
      "image/png": "[encoded data removed]",
      "text/plain": [
       "<Figure size 600x400 with 2 Axes>"
      ]
     },
     "metadata": {},
     "output_type": "display_data"
    }
   ],
   "source": [
    "plt.figure(figsize=(6, 4))\n",
    "sns.heatmap(\n",
    "    cm,\n",
    "    annot=True,\n",
    "    fmt=\"d\",\n",
    "    cmap=\"Blues\",\n",
    "    xticklabels=[\"non-ironic\", \"ironic\"],\n",
    "    yticklabels=[\"non-ironic\", \"ironic\"],\n",
    ")\n",
    "plt.xlabel(\"Predicted Label\")\n",
    "plt.ylabel(\"True Label\")\n",
    "plt.title(\"Confusion Matrix\")\n",
    "plt.savefig(\"confusion_matrix.png\")\n",
    "plt.show()"
   ]
  },
  {
   "cell_type": "code",
   "execution_count": 51,
   "id": "8e884d13-2845-487e-8856-fec812b092cd",
   "metadata": {},
   "outputs": [
    {
     "data": {
      "application/vnd.jupyter.widget-view+json": {
       "model_id": "9b95ca5ca0b045f79f7040ca214a7299",
       "version_major": 2,
       "version_minor": 0
      },
      "text/plain": [
       "  0%|          | 0/784 [00:00<?, ?it/s]"
      ]
     },
     "metadata": {},
     "output_type": "display_data"
    }
   ],
   "source": [
    "client = Groq()  # gemma2-9b-it\n",
    "prompt_template = \"\"\"Given the following post, classify it as \"ironic\" or \"non-ironic\". Irony involves saying something that contrasts with the intended meaning, often for the purpose of humour. Provide only the label (\"ironic\" or \"non-ironic\") as your response.\n",
    "Tweet: {tweet}\"\"\"\n",
    "def classify_tweet(tweet, model=\"gemma2-9b-it\"): #gemma2-9b-it\n",
    "    prompt = prompt_template.format(tweet=tweet)\n",
    "    try:\n",
    "        response = client.chat.completions.create(     #get model response\n",
    "            messages=[{\"role\": \"user\", \"content\": prompt}],\n",
    "            model=model,\n",
    "            max_tokens=10,\n",
    "            temperature=0.0  # Deterministic output\n",
    "        )\n",
    "        prediction = response.choices[0].message.content.strip().lower()\n",
    "        return prediction\n",
    "    except Exception as e:\n",
    "        print(f\"Error processing tweet: {e}\")\n",
    "        return None\n",
    "predictions = []\n",
    "true_labels = []\n",
    "from tqdm.notebook import tqdm #make progress counter\n",
    "tdat =dataset['test']\n",
    "#print(tdat)\n",
    "citer = 0\n",
    "for i in tqdm(range(len(tdat))):\n",
    "    item = tdat[i]\n",
    "    citer+=1\n",
    "    #print(citer)\n",
    "    #print(item['text'])\n",
    "    tweet = item['text']\n",
    "    true_label = item['label']  # 1 for ironic, 0 for non-ironic\n",
    "    \n",
    "    # Get prediction from Groq API\n",
    "    pred = classify_tweet(tweet)\n",
    "    #print(pred)\n",
    "    #print(true_label)\n",
    "    if pred in [\"ironic\", \"non-ironic\"]:\n",
    "        predictions.append(1 if pred == \"ironic\" else 0)\n",
    "        true_labels.append(true_label)\n",
    "    else:\n",
    "        print(f\"Invalid prediction for tweet: {tweet}, Prediction: {pred}\")\n",
    "\n"
   ]
  },
  {
   "cell_type": "code",
   "execution_count": 52,
   "id": "9b91e7fc-3c91-4f1a-b4b5-32466df9fac5",
   "metadata": {},
   "outputs": [
    {
     "name": "stdout",
     "output_type": "stream",
     "text": [
      "\n",
      "Metrics Summary:\n",
      "Accuracy: 0.5191\n",
      "Precision: 0.4520\n",
      "Recall: 1.0000\n",
      "F1 Score: 0.6226\n"
     ]
    }
   ],
   "source": [
    "# convert for sklearn\n",
    "predictions = np.array(predictions)\n",
    "true_labels = np.array(true_labels)\n",
    "\n",
    "# sklearn metrics\n",
    "precision, rec, f1, _ = precision_recall_fscore_support(true_labels,predictions, average=\"binary\")\n",
    "\n",
    "acc = accuracy_score(true_labels, predictions)\n",
    "\n",
    "print(f\"\\nMetrics Summary:\")\n",
    "print(f\"Accuracy: {acc:.4f}\")\n",
    "print(f\"Precision: {precision:.4f}\")\n",
    "print(f\"Recall: {rec:.4f}\")\n",
    "print(f\"F1 Score: {f1:.4f}\")\n"
   ]
  },
  {
   "cell_type": "code",
   "execution_count": 53,
   "id": "5d4b804f-934f-4743-971c-5df954078efe",
   "metadata": {},
   "outputs": [
    {
     "name": "stdout",
     "output_type": "stream",
     "text": [
      "[[ 96 377]\n",
      " [  0 311]]\n"
     ]
    }
   ],
   "source": [
    "cm = confusion_matrix(true_labels, predictions, labels=[0, 1])\n",
    "print(cm)"
   ]
  },
  {
   "cell_type": "code",
   "execution_count": 54,
   "id": "09529c13-07c6-4f38-8890-91f838fc27ba",
   "metadata": {},
   "outputs": [
    {
     "data": {
      "image/png": "[encoded data removed]",
      "text/plain": [
       "<Figure size 600x400 with 2 Axes>"
      ]
     },
     "metadata": {},
     "output_type": "display_data"
    }
   ],
   "source": [
    "plt.figure(figsize=(6, 4))\n",
    "sns.heatmap(\n",
    "    cm,\n",
    "    annot=True,\n",
    "    fmt=\"d\",\n",
    "    cmap=\"Blues\",\n",
    "    xticklabels=[\"non-ironic\", \"ironic\"],\n",
    "    yticklabels=[\"non-ironic\", \"ironic\"],\n",
    ")\n",
    "plt.xlabel(\"Predicted Label\")\n",
    "plt.ylabel(\"True Label\")\n",
    "plt.title(\"Confusion Matrix\")\n",
    "plt.savefig(\"confusion_matrix.png\")\n",
    "plt.show()"
   ]
  }
 ],
 "metadata": {
  "kernelspec": {
   "display_name": "Python 3 (ipykernel)",
   "language": "python",
   "name": "python3"
  },
  "language_info": {
   "codemirror_mode": {
    "name": "ipython",
    "version": 3
   },
   "file_extension": ".py",
   "mimetype": "text/x-python",
   "name": "python",
   "nbconvert_exporter": "python",
   "pygments_lexer": "ipython3",
   "version": "3.11.9"
  }
 },
 "nbformat": 4,
 "nbformat_minor": 5
}
